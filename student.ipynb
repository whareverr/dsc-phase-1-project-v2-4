{
 "cells": [
  {
   "cell_type": "markdown",
   "metadata": {},
   "source": [
    "## Final Project Submission\n",
    "\n",
    "Please fill out:\n",
    "* Student name: Muthuri Abigail Mwendwa\n",
    "* Student pace: full time\n",
    "* Scheduled project review date/time: \n",
    "* Instructor name: Maryann Mwikali\n",
    "* Blog post URL:\n"
   ]
  },
  {
   "cell_type": "code",
   "execution_count": null,
   "metadata": {},
   "outputs": [],
   "source": [
    "# Your code here - remember to use markdown cells for comments as well!"
   ]
  },
  {
   "cell_type": "markdown",
   "metadata": {},
   "source": [
    "#### Import Libraries"
   ]
  },
  {
   "cell_type": "code",
   "execution_count": null,
   "metadata": {},
   "outputs": [],
   "source": [
    "import pandas as pd\n",
    "import seaborn as sns\n",
    "import matplotlib.pyplot as plt\n",
    "import sqlite3\n",
    "%matplotlib inline"
   ]
  },
  {
   "cell_type": "markdown",
   "metadata": {},
   "source": [
    "#### Read the datasets "
   ]
  },
  {
   "cell_type": "code",
   "execution_count": null,
   "metadata": {},
   "outputs": [],
   "source": [
    "bom_df = pd.read_csv('unzippedData/bom.movie_gross.csv')"
   ]
  },
  {
   "cell_type": "code",
   "execution_count": null,
   "metadata": {},
   "outputs": [],
   "source": [
    "tmdb_df = pd.read_csv('unzippedData/tmdb.movies.csv', index_col = 0)"
   ]
  },
  {
   "cell_type": "code",
   "execution_count": null,
   "metadata": {},
   "outputs": [],
   "source": [
    "conn = sqlite3.connect('unzippedData/im.db') "
   ]
  },
  {
   "cell_type": "markdown",
   "metadata": {},
   "source": [
    "#### Analyse and Clean the bom.movies_gross.csv"
   ]
  },
  {
   "cell_type": "code",
   "execution_count": null,
   "metadata": {},
   "outputs": [],
   "source": [
    "bom_df.tail()"
   ]
  },
  {
   "cell_type": "code",
   "execution_count": null,
   "metadata": {},
   "outputs": [],
   "source": [
    "bom_df.shape"
   ]
  },
  {
   "cell_type": "code",
   "execution_count": null,
   "metadata": {},
   "outputs": [],
   "source": [
    "bom_df.describe()"
   ]
  },
  {
   "cell_type": "code",
   "execution_count": null,
   "metadata": {},
   "outputs": [],
   "source": [
    "bom_df.isna()"
   ]
  },
  {
   "cell_type": "code",
   "execution_count": null,
   "metadata": {},
   "outputs": [],
   "source": [
    "bom_df.isna().sum()"
   ]
  },
  {
   "cell_type": "code",
   "execution_count": null,
   "metadata": {},
   "outputs": [],
   "source": [
    "bom_df.info()"
   ]
  },
  {
   "cell_type": "code",
   "execution_count": null,
   "metadata": {},
   "outputs": [],
   "source": [
    "bom_df.dropna(inplace=True)"
   ]
  },
  {
   "cell_type": "code",
   "execution_count": null,
   "metadata": {},
   "outputs": [],
   "source": [
    "bom_df.info()"
   ]
  },
  {
   "cell_type": "code",
   "execution_count": null,
   "metadata": {},
   "outputs": [],
   "source": [
    "bom_df['studio'].unique()"
   ]
  },
  {
   "cell_type": "code",
   "execution_count": null,
   "metadata": {},
   "outputs": [],
   "source": [
    "bom_df.duplicated().sum()"
   ]
  },
  {
   "cell_type": "markdown",
   "metadata": {},
   "source": [
    "The dataset initially consisted of 3387 entries and 5 columns: 'title', 'studio', 'domestic_gross', 'foreign_gross', and 'year'.\n",
    "\n",
    "The 'domestic_gross' column is of float64 data type, representing the earnings from the domestic market.\n",
    "\n",
    "The 'foreign_gross' column was initially of object data type, indicating it likely contains non-numeric values. This could be a result of mixed data types or formatting issues.\n",
    "\n",
    "There were missing values (NaN) present in the dataset, particularly in the 'studio', 'domestic_gross', and 'foreign_gross' columns.\n",
    "\n",
    "After dropping rows with missing values using dropna(), the dataset was reduced to 2007 entries.\n"
   ]
  },
  {
   "cell_type": "markdown",
   "metadata": {},
   "source": [
    "#### Analyse and Clean the tmdb.movies.csv"
   ]
  },
  {
   "cell_type": "code",
   "execution_count": null,
   "metadata": {},
   "outputs": [],
   "source": [
    "tmdb_df.head(50)"
   ]
  },
  {
   "cell_type": "code",
   "execution_count": null,
   "metadata": {},
   "outputs": [],
   "source": [
    "tmdb_df.shape"
   ]
  },
  {
   "cell_type": "code",
   "execution_count": null,
   "metadata": {},
   "outputs": [],
   "source": [
    "tmdb_df.describe()"
   ]
  },
  {
   "cell_type": "code",
   "execution_count": null,
   "metadata": {},
   "outputs": [],
   "source": [
    "tmdb_df.isna()"
   ]
  },
  {
   "cell_type": "code",
   "execution_count": null,
   "metadata": {},
   "outputs": [],
   "source": [
    "tmdb_df.isna().sum()"
   ]
  },
  {
   "cell_type": "code",
   "execution_count": null,
   "metadata": {},
   "outputs": [],
   "source": [
    "tmdb_df.info()"
   ]
  },
  {
   "cell_type": "markdown",
   "metadata": {},
   "source": [
    "The dataset contains information about movies from TMDB (The Movie Database), including details such as title, genre, release date, popularity, and ratings.\n",
    "\n",
    "The dataset consists of 26,517 entries and 10 columns: 'Unnamed: 0', 'genre_ids', 'id', 'original_language', 'original_title', 'popularity', 'release_date', 'title', 'vote_average', and 'vote_count'.\n",
    "\n",
    "Descriptive statistics of the dataset show that the average vote count is approximately 194, with a maximum vote count of 22,186.\n",
    "\n",
    "There are no missing values present in the dataset, as indicated by the absence of null values in the 'isna().sum()' operation."
   ]
  },
  {
   "cell_type": "markdown",
   "metadata": {},
   "source": [
    "#### Analyse and Clean the im.db"
   ]
  },
  {
   "cell_type": "code",
   "execution_count": null,
   "metadata": {},
   "outputs": [],
   "source": [
    "col_df = pd.read_sql(\"\"\"SELECT name FROM sqlite_master WHERE type = 'table';\"\"\", conn)\n",
    "col_df"
   ]
  },
  {
   "cell_type": "code",
   "execution_count": null,
   "metadata": {},
   "outputs": [],
   "source": [
    "movie_basics = pd.read_sql(\"SELECT * FROM movie_basics;\", conn)\n",
    "movie_basics"
   ]
  },
  {
   "cell_type": "code",
   "execution_count": null,
   "metadata": {},
   "outputs": [],
   "source": [
    "movie_ratings = pd.read_sql(\"SELECT * FROM movie_ratings;\", conn)\n",
    "movie_ratings"
   ]
  },
  {
   "cell_type": "code",
   "execution_count": null,
   "metadata": {},
   "outputs": [],
   "source": [
    "im_df = pd.merge(movie_ratings, movie_basics, on='movie_id')\n",
    "im_df"
   ]
  },
  {
   "cell_type": "code",
   "execution_count": null,
   "metadata": {},
   "outputs": [],
   "source": [
    "im_df.describe()"
   ]
  },
  {
   "cell_type": "code",
   "execution_count": null,
   "metadata": {},
   "outputs": [],
   "source": [
    "im_df.isna()"
   ]
  },
  {
   "cell_type": "code",
   "execution_count": null,
   "metadata": {},
   "outputs": [],
   "source": [
    "im_df.info()"
   ]
  },
  {
   "cell_type": "code",
   "execution_count": null,
   "metadata": {},
   "outputs": [],
   "source": [
    "im_df.dropna(inplace=True)"
   ]
  },
  {
   "cell_type": "code",
   "execution_count": null,
   "metadata": {},
   "outputs": [],
   "source": [
    "im_df.info()"
   ]
  },
  {
   "cell_type": "markdown",
   "metadata": {},
   "source": [
    "The dataset consists of information about movies, including their ratings, number of votes, titles, release years, runtime, and genres. \n",
    "\n",
    "Using movie_id as unique identifier, I merged two columns movie_basics and movie_ratings to form my im_df\n",
    "\n",
    "After cleaning, the dataset contains 65,720 entries with no missing values. The average rating of the movies in the dataset is approximately 6.33, with a standard deviation of 1.47. The average number of votes is approximately 3,523, with a standard deviation of approximately 30,294. The movies range in release years from 2010 to 2019, with an average runtime of approximately 94.65 minutes.\n"
   ]
  },
  {
   "cell_type": "markdown",
   "metadata": {},
   "source": [
    "#### Data Visualisations\n",
    "\n",
    "##### Dataset : tmdb_df\n"
   ]
  },
  {
   "cell_type": "code",
   "execution_count": null,
   "metadata": {},
   "outputs": [],
   "source": [
    "# Plotting a histogram \n",
    "plt.figure(figsize=(10, 8))\n",
    "sns.histplot(data = tmdb_df, x='vote_average', bins=30, kde=True, color = 'pink' )\n",
    "plt.axvline(tmdb_df['vote_average'].mean(), color='blue', linestyle='dashed', linewidth=2.5)  \n",
    "plt.title('Distribution of Movie Ratings')\n",
    "plt.xlabel('Movie Rating')\n",
    "plt.ylabel('Frequency')\n",
    "plt.show()"
   ]
  },
  {
   "cell_type": "markdown",
   "metadata": {},
   "source": [
    "- The histogram shows the distribution of movie ratings providing insights into the overall quality of movies in the dataset, which directly relates to the business problem of Microsoft's new movie studio entering the film industry.\n",
    "\n",
    "- By analyzing the distribution of movie ratings, Microsoft can gain insights into what constitutes a \"good\" or \"great\" movie in the eyes of viewers.\n",
    "\n",
    "- If the rating falls on the left side of the mean line it shows that the movie has performed below average and vice versa.\n",
    "\n",
    "- The histogram allows Microsoft to check the quality of their movies against existing films in the dataset. \n",
    "\n",
    "- Understanding the distribution of movie ratings can also help identify target audiences. By analyzing which types of movies tend to receive higher ratings, Microsoft can tailor their content to appeal to specific demographics or preferences, ultimately increasing the chances of commercial success."
   ]
  },
  {
   "cell_type": "code",
   "execution_count": null,
   "metadata": {},
   "outputs": [],
   "source": [
    "# Plotting bar graph\n",
    "plt.figure(figsize=(16, 8))\n",
    "plt.bar(x=tmdb_df['original_language'], height=tmdb_df['vote_average'],color='pink')\n",
    "plt.title('Average Rating by Original Language')\n",
    "plt.xlabel('Original Language')\n",
    "plt.ylabel('Average Rating')\n",
    "plt.show()\n"
   ]
  },
  {
   "cell_type": "markdown",
   "metadata": {},
   "source": [
    "The bar plot displays the average rating of movies based on their original language thus offering insights into language preferences and the quality of movies in different languages.\n",
    "\n",
    "- Understanding the average rating of movies based on their original language helps Microsoft identify language preferences among audiences. \n",
    "\n",
    "- By analyzing which languages receive higher ratings on average, Microsoft can tailor their content strategy to prioritize languages that resonate most with viewers. \n",
    "\n",
    "-  Languages associated with higher average ratings may indicate a higher standard of filmmaking or storytelling within those language-speaking communities. \n",
    "\n",
    "- By identifying languages with high average ratings, Microsoft can prioritize subtitling their movies into those languages to enhance accessibility and appeal to international or foreign viewers. \n"
   ]
  },
  {
   "cell_type": "code",
   "execution_count": null,
   "metadata": {},
   "outputs": [],
   "source": [
    "# Plotting scatter plot\n",
    "plt.figure(figsize=(10, 6))\n",
    "sns.scatterplot(data=tmdb_df, x='popularity', y='vote_count', color = 'violet')\n",
    "plt.title('Scatter plot for Popularity and Vote Count')\n",
    "plt.xlabel('Movie Popularity')\n",
    "plt.ylabel('Vote Count')\n",
    "plt.show()"
   ]
  },
  {
   "cell_type": "markdown",
   "metadata": {},
   "source": [
    "The scatter plot illustrates the relationship between a movie's popularity and the number of votes it has received. This offers perspectives on the degree of involvement and enthusiasm from viewers..\n",
    "\n",
    "- The scatter plot allows Microsoft to gauge the level of interest and interaction among audiences, which is crucial for creating content that best resonates with viewers and drives engagement.\n",
    "\n",
    "- The scatter plot indicates that movies with high popularity and a large number of votes may be considered successful, while those with low engagement metrics may require adjustments in marketing strategies or content creation.\n",
    "\n",
    "- Comparing the engagement levels of Microsoft's movies with those of competitors, Microsoft can identify strengths, weaknesses, and opportunities in the market, helping them make informed decisions to stay competitive."
   ]
  },
  {
   "cell_type": "code",
   "execution_count": null,
   "metadata": {},
   "outputs": [],
   "source": [
    "# release date is converted to datetime format\n",
    "tmdb_df['release_date'] = pd.to_datetime(tmdb_df['release_date'])\n",
    "# Extracting year from release_date\n",
    "tmdb_df['release_year'] = tmdb_df['release_date'].dt.year\n",
    "\n",
    "# Plotting line graph\n",
    "plt.figure(figsize=(10, 6))\n",
    "sns.lineplot(data=tmdb_df, x='release_year', y='popularity',color='pink')\n",
    "plt.title('Release Date Trends')\n",
    "plt.xlabel('Release Year')\n",
    "plt.ylabel('Popularity')\n",
    "plt.xticks(rotation=45)\n",
    "plt.show()"
   ]
  },
  {
   "cell_type": "markdown",
   "metadata": {},
   "source": [
    "The line plot illustrates trends in movie popularity over the years and provides insights into the evolution of audience preferences and the impact of release timing on movie success.\n",
    "\n",
    "- Microsoft can gain valuable insights into shifting audience preferences by understanding which types of movies have gained popularity or declined in recent years.\n",
    "\n",
    "- By observing trends in movie popularity, Microsoft can identify emerging genres, themes, or storytelling approaches that are gaining popularity among audiences. \n",
    "\n",
    "- By understanding how movie popularity has evolved over the years, Microsoft can anticipate future shifts in audience tastes and adapt their strategies accordingly to remain relevant in the long run.\n"
   ]
  },
  {
   "cell_type": "code",
   "execution_count": null,
   "metadata": {},
   "outputs": [],
   "source": [
    "# Convert 'release_date' column to datetime\n",
    "tmdb_df['release_date'] = pd.to_datetime(tmdb_df['release_date'])\n",
    "\n",
    "# Extract month and count movie releases per month\n",
    "monthly_release_count = tmdb_df['release_date'].dt.month_name().value_counts()\n",
    "\n",
    "# Plot the graph\n",
    "plt.figure(figsize=(10, 6))\n",
    "monthly_release_count.plot(kind='bar', edgecolor='black', color='pink')\n",
    "plt.title('Distribution of Movie Releases by Month')\n",
    "plt.xlabel('Month')\n",
    "plt.ylabel('Number of Releases')\n",
    "plt.show()\n"
   ]
  },
  {
   "cell_type": "markdown",
   "metadata": {},
   "source": [
    "- Understanding the distribution of movie releases across different months allows Microsoft to devise a strategic release timing strategy. By analyzing which months have the highest and lowest number of movie releases, Microsoft can identify the best months to launch their own movies.\n",
    "\n",
    "- The graph helps Microsoft identify any seasonal trends in movie releases. For example, if there's a noticeable spike in movie releases during certain months (e.g., holiday seasons), Microsoft can capitalize on these trends by aligning their content strategy and release schedule accordingly. \n",
    "\n",
    "- Microsoft can assess when other studios are releasing their movies and adjust their own release schedule to avoid direct competition or strategically position their movies against competing releases.\n",
    "\n",
    "- Certain months may attract more moviegoers due to factors such as school holidays, cultural events, or weather conditions. By identifying months with higher movie release volumes, Microsoft can know when to release movies.\n",
    "\n"
   ]
  },
  {
   "cell_type": "markdown",
   "metadata": {},
   "source": [
    "##### Dataset : bom_df"
   ]
  },
  {
   "cell_type": "code",
   "execution_count": null,
   "metadata": {},
   "outputs": [],
   "source": [
    "# Histogram of Domestic Gross\n",
    "plt.figure(figsize=(10, 6))\n",
    "plt.hist(bom_df['domestic_gross'], bins=20, color='pink', edgecolor='black')\n",
    "plt.title('Distribution of Domestic Gross')\n",
    "plt.xlabel('Domestic Gross')\n",
    "plt.ylabel('Frequency')\n",
    "plt.show()"
   ]
  },
  {
   "cell_type": "markdown",
   "metadata": {},
   "source": [
    "- This histogram illustrates the distribution of domestic gross revenue across all movies in the dataset.\n",
    "\n",
    "- Understanding the typical range of earnings for movies is crucial for Microsoft to gauge the potential financial performance of their future productions and set realistic revenue expectations."
   ]
  },
  {
   "cell_type": "code",
   "execution_count": null,
   "metadata": {},
   "outputs": [],
   "source": [
    "# Bar plot\n",
    "studio_revenue = bom_df.groupby('studio')['domestic_gross'].sum().sort_values(ascending=False).head(15)\n",
    "plt.figure(figsize=(12, 6))\n",
    "studio_revenue.plot(kind='bar', color='pink', edgecolor = 'black')\n",
    "plt.title('Top 15 Studios by Domestic Gross Revenue')\n",
    "plt.xlabel('Movie Studios')\n",
    "plt.ylabel('Total Domestic Gross Revenue')\n",
    "plt.xticks(rotation=45, ha='right')\n",
    "plt.show()"
   ]
  },
  {
   "cell_type": "markdown",
   "metadata": {},
   "source": [
    "- This bar plot showcases the total domestic gross revenue generated by the top 15 movie studios.\n",
    "- Identifying the studios with the highest revenue can inform strategic partnerships, investment decisions, and distribution agreements. \n",
    "- Understanding which studios dominate the market can inform strategic partnerships or collaborations, guiding Microsoft's entry strategy into the competitive landscape."
   ]
  },
  {
   "cell_type": "code",
   "execution_count": null,
   "metadata": {},
   "outputs": [],
   "source": [
    "bom_df['foreign_gross'] = bom_df['foreign_gross'].str.replace(',', '').astype(float)  # Convert foreign gross to numeric\n",
    "plt.figure(figsize=(10, 6))\n",
    "plt.scatter(bom_df['domestic_gross'], bom_df['foreign_gross'], color='violet', alpha=0.5)\n",
    "plt.title('Domestic vs. Foreign Gross')\n",
    "plt.xlabel('Domestic Gross')\n",
    "plt.ylabel('Foreign Gross')\n",
    "plt.show()"
   ]
  },
  {
   "cell_type": "markdown",
   "metadata": {},
   "source": [
    "- This scatter plot visualizes the relationship between domestic and foreign gross revenue for individual movies.\n",
    "- Analyzing this relationship enables Microsoft to assess the global performance of movies and understand the effectiveness of international distribution strategies. This insight is crucial for Microsoft to plan their distribution and marketing efforts for their movies on a global scale."
   ]
  },
  {
   "cell_type": "code",
   "execution_count": null,
   "metadata": {},
   "outputs": [],
   "source": [
    "# 5. Line Plot of Average Domestic Gross by Year\n",
    "avg_domestic_gross_yearly = bom_df.groupby('year')['domestic_gross'].mean()\n",
    "plt.figure(figsize=(10, 6))\n",
    "plt.plot(avg_domestic_gross_yearly.index, avg_domestic_gross_yearly.values, marker='o', color='pink', linestyle='-')\n",
    "plt.title('Average Domestic Gross by Year')\n",
    "plt.xlabel('Year')\n",
    "plt.ylabel('Average Domestic Gross')\n",
    "plt.xticks(rotation=45, ha='right')\n",
    "plt.show()"
   ]
  },
  {
   "cell_type": "markdown",
   "metadata": {},
   "source": [
    "- This line plot illustrates the trend of average domestic gross revenue over the years.\n",
    "- By tracking revenue trends over time, Microsoft can identify periods of growth, anticipate future revenue expectations, and strategically plan their entry into the market to capitalize on favorable market conditions."
   ]
  },
  {
   "cell_type": "markdown",
   "metadata": {},
   "source": [
    "##### Dataset : im_df"
   ]
  },
  {
   "cell_type": "code",
   "execution_count": null,
   "metadata": {},
   "outputs": [],
   "source": [
    "plt.figure(figsize=(10, 6))\n",
    "sns.histplot(im_df['averagerating'], bins=20, color='pink', kde=True)\n",
    "plt.axvline(im_df['averagerating'].mean(), color='blue', linestyle='dashed', linewidth=2.5)  \n",
    "plt.title('Distribution of Movie Ratings')\n",
    "plt.xlabel('Average Rating')\n",
    "plt.ylabel('Frequency')\n",
    "plt.show()\n"
   ]
  },
  {
   "cell_type": "markdown",
   "metadata": {},
   "source": [
    "- The histogram shows the distribution of movie ratings, indicating that the ratings are roughly normally distributed around the mean rating (represented by the dashed blue line). \n",
    "- This insight helps Microsoft understand the typical range and frequency of ratings for movies in the dataset, which can inform their decisions on what types of movies to produce."
   ]
  },
  {
   "cell_type": "code",
   "execution_count": null,
   "metadata": {},
   "outputs": [],
   "source": [
    "avg_rating_yearly = im_df.groupby('start_year')['averagerating'].mean().reset_index()\n",
    "plt.figure(figsize=(10, 6))\n",
    "sns.lineplot(data=avg_rating_yearly, x='start_year', y='averagerating', color='violet', marker='o')\n",
    "plt.title('Average Rating by Release Year')\n",
    "plt.xlabel('Release Year')\n",
    "plt.ylabel('Average Rating')\n",
    "plt.xticks(rotation=45, ha='right')\n",
    "plt.show()"
   ]
  },
  {
   "cell_type": "markdown",
   "metadata": {},
   "source": [
    "- This line plot illustrates the trend of average ratings over the years. It provides insights into how the average rating of movies has evolved over time. \n",
    "- Microsoft can use this information to gauge audience preferences and identify any trends in movie quality over the years, helping them make informed decisions about the types of movies to produce."
   ]
  },
  {
   "cell_type": "code",
   "execution_count": null,
   "metadata": {},
   "outputs": [],
   "source": [
    "# Scatter plot of averagerating vs. numvotes\n",
    "plt.figure(figsize=(10, 6))\n",
    "sns.scatterplot(data=im_df, x='averagerating', y='numvotes', color='violet')\n",
    "plt.title('Average Rating vs. Number of Votes')\n",
    "plt.xlabel('Average Rating')\n",
    "plt.ylabel('Number of Votes')\n",
    "plt.show()"
   ]
  },
  {
   "cell_type": "markdown",
   "metadata": {},
   "source": [
    "- The scatter plot visualizes the relationship between the average rating and the number of votes received by movies. It helps identify whether there is any correlation between these two variables. \n",
    "- Microsoft can use this insight to understand the level of engagement and popularity of movies based on their ratings and number of votes, which can guide their decision-making process in choosing which types of movies to invest in."
   ]
  },
  {
   "cell_type": "code",
   "execution_count": null,
   "metadata": {},
   "outputs": [],
   "source": [
    "# bar plot of count of movies by genre\n",
    "plt.figure(figsize=(12, 6))\n",
    "sns.countplot(data=im_df, x='genres', order=im_df['genres'].value_counts().index[:15], color = 'pink', edgecolor ='black')\n",
    "plt.title('Top 15 Movie Genres')\n",
    "plt.xlabel('Movie Genres')\n",
    "plt.ylabel('Frequency')\n",
    "plt.xticks(rotation=45, ha='right')\n",
    "plt.show()\n"
   ]
  },
  {
   "cell_type": "markdown",
   "metadata": {},
   "source": [
    "- The bar plot displays the frequency of movie genres, showing the top 15 most common genres in the dataset. This information helps Microsoft identify the most popular genres among viewers.\n",
    "- By understanding which genres are currently resonating with audiences, Microsoft can make informed decisions about the types of genres to produce to maximize audience engagement and box office success."
   ]
  },
  {
   "cell_type": "code",
   "execution_count": null,
   "metadata": {},
   "outputs": [],
   "source": []
  }
 ],
 "metadata": {
  "kernelspec": {
   "display_name": "Python 3 (ipykernel)",
   "language": "python",
   "name": "python3"
  },
  "language_info": {
   "codemirror_mode": {
    "name": "ipython",
    "version": 3
   },
   "file_extension": ".py",
   "mimetype": "text/x-python",
   "name": "python",
   "nbconvert_exporter": "python",
   "pygments_lexer": "ipython3",
   "version": "3.11.5"
  }
 },
 "nbformat": 4,
 "nbformat_minor": 2
}
